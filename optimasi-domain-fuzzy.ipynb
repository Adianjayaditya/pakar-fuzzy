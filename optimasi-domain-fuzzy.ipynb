{
 "cells": [
  {
   "cell_type": "markdown",
   "metadata": {},
   "source": [
    "### PARTICLE SWARM "
   ]
  },
  {
   "cell_type": "code",
   "execution_count": 31,
   "metadata": {},
   "outputs": [],
   "source": [
    "import numpy as np\n",
    "np.set_printoptions(suppress=True)"
   ]
  },
  {
   "cell_type": "code",
   "execution_count": 32,
   "metadata": {},
   "outputs": [
    {
     "name": "stdout",
     "output_type": "stream",
     "text": [
      "waktu belajar   : {'kecil': 0, 'sedang': 0, 'besar': 0.5528455284552846}\n",
      "lama jawab soal : {'kecil': 0.2721417069243156, 'sedang': 0.3346456692913386, 'besar': 0}\n",
      "nilai           : {'kecil': 0.0963855421686747, 'sedang': 0.50920245398773, 'besar': 0}\n",
      "RULE 1: IF waktu_belajar kecil (0.0000) AND lama_jawab_soal kecil (0.2721) AND nilai kecil (0.0964) THEN kelulusan tidak lulus : ALPAPREDIKAT = 0.0000\n",
      "RULE 2: IF waktu_belajar kecil (0.0000) AND lama_jawab_soal kecil (0.2721) AND nilai kecil (0.5092) THEN kelulusan tidak lulus : ALPAPREDIKAT = 0.0000\n",
      "RULE 3: IF waktu_belajar kecil (0.0000) AND lama_jawab_soal kecil (0.2721) AND nilai kecil (0.0000) THEN kelulusan tidak lulus : ALPAPREDIKAT = 0.0000\n",
      "RULE 4: IF waktu_belajar kecil (0.0000) AND lama_jawab_soal sedang (0.3346) AND nilai sedang (0.0964) THEN kelulusan tidak lulus : ALPAPREDIKAT = 0.0000\n",
      "RULE 5: IF waktu_belajar kecil (0.0000) AND lama_jawab_soal sedang (0.3346) AND nilai sedang (0.5092) THEN kelulusan tidak lulus : ALPAPREDIKAT = 0.0000\n",
      "RULE 6: IF waktu_belajar kecil (0.0000) AND lama_jawab_soal sedang (0.3346) AND nilai sedang (0.0000) THEN kelulusan tidak lulus : ALPAPREDIKAT = 0.0000\n",
      "RULE 7: IF waktu_belajar kecil (0.0000) AND lama_jawab_soal besar (0.0000) AND nilai besar (0.0964) THEN kelulusan tidak lulus : ALPAPREDIKAT = 0.0000\n",
      "RULE 8: IF waktu_belajar kecil (0.0000) AND lama_jawab_soal besar (0.0000) AND nilai besar (0.5092) THEN kelulusan tidak lulus : ALPAPREDIKAT = 0.0000\n",
      "RULE 9: IF waktu_belajar kecil (0.0000) AND lama_jawab_soal besar (0.0000) AND nilai besar (0.0000) THEN kelulusan lulus : ALPAPREDIKAT = 0.0000\n",
      "RULE 10: IF waktu_belajar sedang (0.0000) AND lama_jawab_soal kecil (0.2721) AND nilai kecil (0.0964) THEN kelulusan tidak lulus : ALPAPREDIKAT = 0.0000\n",
      "RULE 11: IF waktu_belajar sedang (0.0000) AND lama_jawab_soal kecil (0.2721) AND nilai kecil (0.5092) THEN kelulusan tidak lulus : ALPAPREDIKAT = 0.0000\n",
      "RULE 12: IF waktu_belajar sedang (0.0000) AND lama_jawab_soal kecil (0.2721) AND nilai kecil (0.0000) THEN kelulusan tidak lulus : ALPAPREDIKAT = 0.0000\n",
      "RULE 13: IF waktu_belajar sedang (0.0000) AND lama_jawab_soal sedang (0.3346) AND nilai sedang (0.0964) THEN kelulusan tidak lulus : ALPAPREDIKAT = 0.0000\n",
      "RULE 14: IF waktu_belajar sedang (0.0000) AND lama_jawab_soal sedang (0.3346) AND nilai sedang (0.5092) THEN kelulusan lulus : ALPAPREDIKAT = 0.0000\n",
      "RULE 15: IF waktu_belajar sedang (0.0000) AND lama_jawab_soal sedang (0.3346) AND nilai sedang (0.0000) THEN kelulusan lulus : ALPAPREDIKAT = 0.0000\n",
      "RULE 16: IF waktu_belajar sedang (0.0000) AND lama_jawab_soal besar (0.0000) AND nilai besar (0.0964) THEN kelulusan tidak lulus : ALPAPREDIKAT = 0.0000\n",
      "RULE 17: IF waktu_belajar sedang (0.0000) AND lama_jawab_soal besar (0.0000) AND nilai besar (0.5092) THEN kelulusan lulus : ALPAPREDIKAT = 0.0000\n",
      "RULE 18: IF waktu_belajar sedang (0.0000) AND lama_jawab_soal besar (0.0000) AND nilai besar (0.0000) THEN kelulusan lulus : ALPAPREDIKAT = 0.0000\n",
      "RULE 19: IF waktu_belajar besar (0.5528) AND lama_jawab_soal kecil (0.2721) AND nilai kecil (0.0964) THEN kelulusan tidak lulus : ALPAPREDIKAT = 0.0964\n",
      "RULE 20: IF waktu_belajar besar (0.5528) AND lama_jawab_soal kecil (0.2721) AND nilai kecil (0.5092) THEN kelulusan tidak lulus : ALPAPREDIKAT = 0.2721\n",
      "RULE 21: IF waktu_belajar besar (0.5528) AND lama_jawab_soal kecil (0.2721) AND nilai kecil (0.0000) THEN kelulusan tidak lulus : ALPAPREDIKAT = 0.0000\n",
      "RULE 22: IF waktu_belajar besar (0.5528) AND lama_jawab_soal sedang (0.3346) AND nilai sedang (0.0964) THEN kelulusan lulus : ALPAPREDIKAT = 0.0964\n",
      "RULE 23: IF waktu_belajar besar (0.5528) AND lama_jawab_soal sedang (0.3346) AND nilai sedang (0.5092) THEN kelulusan lulus : ALPAPREDIKAT = 0.3346\n",
      "RULE 24: IF waktu_belajar besar (0.5528) AND lama_jawab_soal sedang (0.3346) AND nilai sedang (0.0000) THEN kelulusan lulus : ALPAPREDIKAT = 0.0000\n",
      "RULE 25: IF waktu_belajar besar (0.5528) AND lama_jawab_soal besar (0.0000) AND nilai besar (0.0964) THEN kelulusan lulus : ALPAPREDIKAT = 0.0000\n",
      "RULE 26: IF waktu_belajar besar (0.5528) AND lama_jawab_soal besar (0.0000) AND nilai besar (0.5092) THEN kelulusan lulus : ALPAPREDIKAT = 0.0000\n",
      "RULE 27: IF waktu_belajar besar (0.5528) AND lama_jawab_soal besar (0.0000) AND nilai besar (0.0000) THEN kelulusan lulus : ALPAPREDIKAT = 0.0000\n",
      "{'rule': 1, 'kepercayaan_pakar': 'kecil', 'alpapredikat': 0}\n",
      "{'rule': 2, 'kepercayaan_pakar': 'kecil', 'alpapredikat': 0}\n",
      "{'rule': 3, 'kepercayaan_pakar': 'kecil', 'alpapredikat': 0}\n",
      "{'rule': 4, 'kepercayaan_pakar': 'kecil', 'alpapredikat': 0}\n",
      "{'rule': 5, 'kepercayaan_pakar': 'kecil', 'alpapredikat': 0}\n",
      "{'rule': 6, 'kepercayaan_pakar': 'kecil', 'alpapredikat': 0}\n",
      "{'rule': 7, 'kepercayaan_pakar': 'kecil', 'alpapredikat': 0}\n",
      "{'rule': 8, 'kepercayaan_pakar': 'kecil', 'alpapredikat': 0}\n",
      "{'rule': 9, 'kepercayaan_pakar': 'besar', 'alpapredikat': 0}\n",
      "{'rule': 10, 'kepercayaan_pakar': 'kecil', 'alpapredikat': 0}\n",
      "{'rule': 11, 'kepercayaan_pakar': 'kecil', 'alpapredikat': 0}\n",
      "{'rule': 12, 'kepercayaan_pakar': 'kecil', 'alpapredikat': 0}\n",
      "{'rule': 13, 'kepercayaan_pakar': 'kecil', 'alpapredikat': 0}\n",
      "{'rule': 14, 'kepercayaan_pakar': 'besar', 'alpapredikat': 0}\n",
      "{'rule': 15, 'kepercayaan_pakar': 'besar', 'alpapredikat': 0}\n",
      "{'rule': 16, 'kepercayaan_pakar': 'sedang', 'alpapredikat': 0}\n",
      "{'rule': 17, 'kepercayaan_pakar': 'besar', 'alpapredikat': 0}\n",
      "{'rule': 18, 'kepercayaan_pakar': 'besar', 'alpapredikat': 0}\n",
      "{'rule': 19, 'kepercayaan_pakar': 'kecil', 'alpapredikat': 0.0963855421686747}\n",
      "{'rule': 20, 'kepercayaan_pakar': 'kecil', 'alpapredikat': 0.2721417069243156}\n",
      "{'rule': 21, 'kepercayaan_pakar': 'sedang', 'alpapredikat': 0}\n",
      "{'rule': 22, 'kepercayaan_pakar': 'sedang', 'alpapredikat': 0.0963855421686747}\n",
      "{'rule': 23, 'kepercayaan_pakar': 'besar', 'alpapredikat': 0.3346456692913386}\n",
      "{'rule': 24, 'kepercayaan_pakar': 'besar', 'alpapredikat': 0}\n",
      "{'rule': 25, 'kepercayaan_pakar': 'besar', 'alpapredikat': 0}\n",
      "{'rule': 26, 'kepercayaan_pakar': 'besar', 'alpapredikat': 0}\n",
      "{'rule': 27, 'kepercayaan_pakar': 'besar', 'alpapredikat': 0}\n",
      "Hasil Defuzzifikasi:  53.33331749201733\n",
      "\n",
      "AKURASI: 60.7000%\n"
     ]
    }
   ],
   "source": [
    "%run fuzzy-pakar-jarak-z.ipynb"
   ]
  },
  {
   "cell_type": "code",
   "execution_count": 33,
   "metadata": {},
   "outputs": [],
   "source": [
    "class Particle:\n",
    "    def __init__(self, bounds):\n",
    "        self.bounds = bounds\n",
    "        self.position = self._generate_position()\n",
    "        self.velocity = self._generate_velocity()\n",
    "        self.best_position = np.copy(self.position)\n",
    "        self.best_score = -float('inf')\n",
    "\n",
    "    def _generate_position(self):\n",
    "        position = []\n",
    "        for min_bound, max_bound, length in self.bounds:\n",
    "            segment = np.random.uniform(min_bound, max_bound, size=length)\n",
    "            position.extend(segment)\n",
    "        return np.array(position)\n",
    "\n",
    "    def _generate_velocity(self):   \n",
    "        velocity = []\n",
    "        for _, _, length in self.bounds:\n",
    "            segment = np.random.uniform(-1, 1, size=length)\n",
    "            velocity.extend(segment)\n",
    "        return np.array(velocity)\n",
    "\n",
    "    def update_velocity(self, global_best_position, w, c1, c2):\n",
    "        r1 = np.random.rand(len(self.position))\n",
    "        r2 = np.random.rand(len(self.position))\n",
    "        self.velocity = w * self.velocity + c1 * r1 * (self.best_position - self.position) + c2 * r2 * (global_best_position - self.position)\n",
    "\n",
    "    def update_position(self):\n",
    "        self.position += self.velocity\n",
    "        start_idx = 0\n",
    "        for min_bound, max_bound, length in self.bounds:\n",
    "            end_idx = start_idx + length\n",
    "            self.position[start_idx:end_idx] = np.clip(\n",
    "                self.position[start_idx:end_idx], min_bound, max_bound\n",
    "            )\n",
    "            start_idx = end_idx"
   ]
  },
  {
   "cell_type": "code",
   "execution_count": 34,
   "metadata": {},
   "outputs": [],
   "source": [
    "def objective_function(particle_position, dataset):\n",
    "    total_error = 0\n",
    "    for i in range(len(dataset)):\n",
    "        waktu_belajar = dataset.loc[i, 'rerata_durasi_akses_materi']\n",
    "        lama_jawab_soal = dataset.loc[i, 'durasi_berlatih']\n",
    "        nilai = dataset.loc[i, 'nilai']\n",
    "        aktual_kelulusan = dataset.loc[i, 'kelulusan']\n",
    "        # print(particle_position)\n",
    "        x, y, z = func_fuzzifikasi(waktu_belajar, lama_jawab_soal, nilai, particle_position)\n",
    "        # print(f\"waktu belajar   : {x}\")\n",
    "        # print(f\"lama jawab soal : {y}\")\n",
    "        # print(f\"nilai           : {z}\")\n",
    "        hasil_inferensi, rule_text = inferensi_mamdani(x, y, z, rules)\n",
    "        hasil_agregasi = agregasi(hasil_inferensi)\n",
    "        hasil_defuzzifikasi = defuzzifikasi(hasil_agregasi)\n",
    "        nilai_error = error_kelulusan(hasil_defuzzifikasi, kepercayaan_pakar)\n",
    "        total_error += nilai_error\n",
    "    akurasi = 100 - (total_error / len(dataset))\n",
    "    # Menentukan indeks untuk elemen yang ingin diperiksa\n",
    "    indices = [0, 4, 5, 9, 10, 14]\n",
    "    # Mengecek apakah elemen-elemen pada indeks tersebut sama dengan 0\n",
    "    if any(particle_position[i] == 0 for i in indices):\n",
    "        akurasi = 0\n",
    "    return akurasi"
   ]
  },
  {
   "cell_type": "code",
   "execution_count": 35,
   "metadata": {},
   "outputs": [],
   "source": [
    "def ensure_constraints(particle_position):\n",
    "    particle_position[1:4] = sorted(particle_position[1:4])\n",
    "    particle_position[6:9] = sorted(particle_position[6:9])\n",
    "    particle_position[11:14] = sorted(particle_position[11:14])"
   ]
  },
  {
   "cell_type": "code",
   "execution_count": 36,
   "metadata": {},
   "outputs": [],
   "source": [
    "def particle_swarm_optimization(bounds, dataset, num_particles, max_iter, w=0.5, c1=2, c2=2):\n",
    "    swarm = []\n",
    "    temp = []\n",
    "    for _ in range(num_particles):\n",
    "        swarm.append(Particle(bounds))\n",
    "    global_best_position = None\n",
    "    global_best_score = -float('inf')\n",
    "\n",
    "    for iteration in range(max_iter):\n",
    "        for particle in swarm:\n",
    "            # Evaluate fitness\n",
    "            # print(particle.position)\n",
    "            # print(len(particle.velocity))\n",
    "            ensure_constraints(particle.position)\n",
    "            particle_score = objective_function(particle.position, dataset)\n",
    "            # print(particle_score)\n",
    "            if particle_score > particle.best_score:\n",
    "                particle.best_score = particle_score\n",
    "                particle.best_position = np.copy(particle.position)\n",
    "\n",
    "            if particle_score > global_best_score:\n",
    "                global_best_score = particle_score\n",
    "                global_best_position = np.copy(particle.position)\n",
    "\n",
    "        # Update velocity and position\n",
    "        for particle in swarm:\n",
    "            particle.update_velocity(global_best_position, w, c1, c2)\n",
    "            particle.update_position()\n",
    "            # ensure_constraints(particle.position)\n",
    "        temp.append(global_best_score)\n",
    "        print(f\"Iteration {iteration+1}/{max_iter}, Best Score: {global_best_score}\")\n",
    "\n",
    "    return global_best_position, global_best_score, temp"
   ]
  },
  {
   "cell_type": "code",
   "execution_count": 37,
   "metadata": {},
   "outputs": [
    {
     "name": "stdout",
     "output_type": "stream",
     "text": [
      "Iteration 1/30, Best Score: 68.19746906636564\n",
      "Iteration 2/30, Best Score: 84.21152277660364\n",
      "Iteration 3/30, Best Score: 84.21152277660364\n",
      "Iteration 4/30, Best Score: 84.21152277660364\n",
      "Iteration 5/30, Best Score: 84.21152277660364\n",
      "Iteration 6/30, Best Score: 84.21152277660364\n",
      "Iteration 7/30, Best Score: 87.55943901878948\n",
      "Iteration 8/30, Best Score: 89.02848334892018\n",
      "Iteration 9/30, Best Score: 89.43451311248775\n",
      "Iteration 10/30, Best Score: 89.77913087362974\n",
      "Iteration 11/30, Best Score: 89.77913087362974\n",
      "Iteration 12/30, Best Score: 90.58105036441539\n",
      "Iteration 13/30, Best Score: 91.45919945549983\n",
      "Iteration 14/30, Best Score: 91.72354872539611\n",
      "Iteration 15/30, Best Score: 91.72354872539611\n",
      "Iteration 16/30, Best Score: 91.87898110348112\n",
      "Iteration 17/30, Best Score: 91.87898110348112\n",
      "Iteration 18/30, Best Score: 91.87898110348112\n",
      "Iteration 19/30, Best Score: 91.87898110348112\n",
      "Iteration 20/30, Best Score: 91.87898110348112\n",
      "Iteration 21/30, Best Score: 91.90677042085177\n",
      "Iteration 22/30, Best Score: 91.9129887234292\n",
      "Iteration 23/30, Best Score: 91.98978258336177\n",
      "Iteration 24/30, Best Score: 91.98978258336177\n",
      "Iteration 25/30, Best Score: 91.98978258336177\n",
      "Iteration 26/30, Best Score: 91.98978258336177\n",
      "Iteration 27/30, Best Score: 91.98978258336177\n",
      "Iteration 28/30, Best Score: 91.98978258336177\n",
      "Iteration 29/30, Best Score: 91.98978258336177\n",
      "Iteration 30/30, Best Score: 92.00170357174372\n",
      "\n",
      "Optimal Parameters:\n",
      "[ 123.57168217    0.00857277    6.02352184  483.47778053    7.86085524\n",
      "  147.0865503     0.          120.66129325 7500.         7439.01796551\n",
      "    6.72289417    0.           73.6352263    79.8165609     2.2811378 ]\n",
      "Best Accuracy: 92.0017\n"
     ]
    }
   ],
   "source": [
    "bounds = [\n",
    "    (0, 700, 5),  # Elemen 1-5 dengan batas [0 - 700]\n",
    "    (0, 7500, 5),  # Elemen 6-10 dengan batas [0, 7500]\n",
    "    (0, 100, 5)  # Elemen 11 - 15 dengan batas [0, 100]\n",
    "]\n",
    "\n",
    "num_particles = 20\n",
    "max_iter = 30\n",
    "best_params, best_score, best_score_hist = particle_swarm_optimization(bounds, dataset, num_particles, max_iter)\n",
    "\n",
    "print(\"\\nOptimal Parameters:\")\n",
    "print(best_params)\n",
    "print(f\"Best Accuracy: {best_score:.4f}\")"
   ]
  },
  {
   "cell_type": "code",
   "execution_count": 38,
   "metadata": {},
   "outputs": [
    {
     "data": {
      "image/png": "[encoded data removed]",
      "text/plain": [
       "<Figure size 640x480 with 1 Axes>"
      ]
     },
     "metadata": {},
     "output_type": "display_data"
    }
   ],
   "source": [
    "import matplotlib.pyplot as plt\n",
    "plt.plot(best_score_hist, color=\"red\")\n",
    "plt.title(\"Akurasi\", fontsize=16)\n",
    "plt.xlabel(\"Iterasi ke-\", fontsize=12)\n",
    "plt.ylabel(\"Akurasi\", fontsize=12)\n",
    "plt.show()"
   ]
  }
 ],
 "metadata": {
  "kernelspec": {
   "display_name": "Python 3",
   "language": "python",
   "name": "python3"
  },
  "language_info": {
   "codemirror_mode": {
    "name": "ipython",
    "version": 3
   },
   "file_extension": ".py",
   "mimetype": "text/x-python",
   "name": "python",
   "nbconvert_exporter": "python",
   "pygments_lexer": "ipython3",
   "version": "3.12.3"
  }
 },
 "nbformat": 4,
 "nbformat_minor": 2
}
